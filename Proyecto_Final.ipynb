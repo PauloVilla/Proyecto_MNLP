{
 "cells": [
  {
   "cell_type": "markdown",
   "id": "80ac5505",
   "metadata": {},
   "source": [
    "<img style=\"float: right; margin: 30px 15px 15px 15px;\" src=\"https://encrypted-tbn0.gstatic.com/images?q=tbn:ANd9GcTFzQj91sOlkeDFkg5HDbjtR4QJYmLXkfMNig&usqp=CAU\" width=\"300\" height=\"400\" /> \n",
    "    \n",
    "    \n",
    "### <font color='navy'> Modelos no Lineales para Pronósticos. </font>\n",
    "\n",
    "**Nombres:**\n",
    "> `Cárdenas Gallardo Paula Daniela` | `733720` <br> `Haces López José Manuel` | `734759` <br> `Villa Domínguez Paulo Adrián` | `733773`\n",
    "\n",
    "**Fecha:** Mayo 2023\n",
    "    \n",
    "**Profesor:** Óscar David Jaramillo Zuluaga.\n",
    "    \n",
    "**Link Github**: [github.com](https://github.com/paucardenasg/Proyecto_MNLP)\n",
    "\n",
    "# <font color='maroon'> Proyecto Final </font>"
   ]
  },
  {
   "cell_type": "code",
   "execution_count": null,
   "id": "160f8bc8",
   "metadata": {},
   "outputs": [],
   "source": []
  }
 ],
 "metadata": {
  "kernelspec": {
   "display_name": "Python 3 (ipykernel)",
   "language": "python",
   "name": "python3"
  },
  "language_info": {
   "codemirror_mode": {
    "name": "ipython",
    "version": 3
   },
   "file_extension": ".py",
   "mimetype": "text/x-python",
   "name": "python",
   "nbconvert_exporter": "python",
   "pygments_lexer": "ipython3",
   "version": "3.9.13"
  }
 },
 "nbformat": 4,
 "nbformat_minor": 5
}
